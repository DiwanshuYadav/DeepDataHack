{
  "nbformat": 4,
  "nbformat_minor": 0,
  "metadata": {
    "colab": {
      "provenance": [],
      "mount_file_id": "1BlpFyCFKLMoxiw6Sb87N1PX0_ZFAx00f",
      "authorship_tag": "ABX9TyNfzyvgXX3DnN0IO+jFO+yo",
      "include_colab_link": true
    },
    "kernelspec": {
      "name": "python3",
      "display_name": "Python 3"
    },
    "language_info": {
      "name": "python"
    }
  },
  "cells": [
    {
      "cell_type": "markdown",
      "metadata": {
        "id": "view-in-github",
        "colab_type": "text"
      },
      "source": [
        "<a href=\"https://colab.research.google.com/github/DiwanshuYadav/DeepDataHack/blob/main/main_notebook.ipynb\" target=\"_parent\"><img src=\"https://colab.research.google.com/assets/colab-badge.svg\" alt=\"Open In Colab\"/></a>"
      ]
    },
    {
      "cell_type": "code",
      "execution_count": 2,
      "metadata": {
        "colab": {
          "base_uri": "https://localhost:8080/"
        },
        "id": "zEzd6QJ3O8PC",
        "outputId": "69994b75-c3a8-4455-d693-b7bf321c39dd"
      },
      "outputs": [
        {
          "output_type": "stream",
          "name": "stdout",
          "text": [
            "\u001b[2K   \u001b[90m━━━━━━━━━━━━━━━━━━━━━━━━━━━━━━━━━━━━━━━━\u001b[0m \u001b[32m99.2/99.2 MB\u001b[0m \u001b[31m8.0 MB/s\u001b[0m eta \u001b[36m0:00:00\u001b[0m\n",
            "\u001b[2K   \u001b[90m━━━━━━━━━━━━━━━━━━━━━━━━━━━━━━━━━━━━━━━━\u001b[0m \u001b[32m386.6/386.6 kB\u001b[0m \u001b[31m14.1 MB/s\u001b[0m eta \u001b[36m0:00:00\u001b[0m\n",
            "\u001b[2K   \u001b[90m━━━━━━━━━━━━━━━━━━━━━━━━━━━━━━━━━━━━━━━━\u001b[0m \u001b[32m231.9/231.9 kB\u001b[0m \u001b[31m14.4 MB/s\u001b[0m eta \u001b[36m0:00:00\u001b[0m\n",
            "\u001b[?25h"
          ]
        }
      ],
      "source": [
        "!pip install dask[complete] catboost shap xgboost optuna --quiet\n",
        "\n",
        "import dask.dataframe as dd\n",
        "import pandas as pd\n",
        "import numpy as np\n",
        "import seaborn as sns\n",
        "import matplotlib.pyplot as plt\n",
        "\n",
        "from sklearn.model_selection import train_test_split, cross_val_score\n",
        "from sklearn.metrics import classification_report, confusion_matrix, roc_auc_score, f1_score, accuracy_score\n",
        "from sklearn.ensemble import RandomForestClassifier, VotingClassifier\n",
        "from sklearn.linear_model import LogisticRegression\n",
        "from xgboost import XGBClassifier\n",
        "from catboost import CatBoostClassifier\n",
        "import shap\n",
        "import warnings\n",
        "warnings.filterwarnings(\"ignore\")\n"
      ]
    },
    {
      "source": [
        "df = dd.read_csv('/content/drive/MyDrive/Colab Notebooks/kiranaRO_train.csv', dtype={'InvoiceNo': 'object'})  # ⬅️ Replace with actual filename and specify dtype for 'InvoiceNo'\n",
        "df = df.compute()\n",
        "df.head()"
      ],
      "cell_type": "code",
      "metadata": {
        "colab": {
          "base_uri": "https://localhost:8080/",
          "height": 289
        },
        "id": "8zDcRHbSRb9V",
        "outputId": "aa46e02f-3bf6-497c-a8f7-66de74803829"
      },
      "execution_count": 5,
      "outputs": [
        {
          "output_type": "execute_result",
          "data": {
            "text/plain": [
              "  InvoiceNo StockCode                     Description  Quantity  \\\n",
              "0    573745     22138   BAKING SET 9 PIECE RETROSPOT          6   \n",
              "1    562670     22791    T-LIGHT GLASS FLUTED ANTIQUE        12   \n",
              "2    541604    51014L          FEATHER PEN,LIGHT PINK        24   \n",
              "3    551855     22622  BOX OF VINTAGE ALPHABET BLOCKS         2   \n",
              "4    561474     22384         LUNCH BAG PINK POLKADOT       100   \n",
              "\n",
              "           InvoiceDate  UnitPrice  CustomerID         Country  \n",
              "0  2011-11-01 08:53:00       4.95     17419.0  United Kingdom  \n",
              "1  2011-08-08 13:42:00       1.25     14911.0            EIRE  \n",
              "2  2011-01-19 17:23:00       0.85     14572.0  United Kingdom  \n",
              "3  2011-05-04 15:08:00      11.95     12836.0  United Kingdom  \n",
              "4  2011-07-27 13:18:00       1.45     14680.0  United Kingdom  "
            ],
            "text/html": [
              "\n",
              "  <div id=\"df-07cc734a-9260-4b72-9534-1612abee0992\" class=\"colab-df-container\">\n",
              "    <div>\n",
              "<style scoped>\n",
              "    .dataframe tbody tr th:only-of-type {\n",
              "        vertical-align: middle;\n",
              "    }\n",
              "\n",
              "    .dataframe tbody tr th {\n",
              "        vertical-align: top;\n",
              "    }\n",
              "\n",
              "    .dataframe thead th {\n",
              "        text-align: right;\n",
              "    }\n",
              "</style>\n",
              "<table border=\"1\" class=\"dataframe\">\n",
              "  <thead>\n",
              "    <tr style=\"text-align: right;\">\n",
              "      <th></th>\n",
              "      <th>InvoiceNo</th>\n",
              "      <th>StockCode</th>\n",
              "      <th>Description</th>\n",
              "      <th>Quantity</th>\n",
              "      <th>InvoiceDate</th>\n",
              "      <th>UnitPrice</th>\n",
              "      <th>CustomerID</th>\n",
              "      <th>Country</th>\n",
              "    </tr>\n",
              "  </thead>\n",
              "  <tbody>\n",
              "    <tr>\n",
              "      <th>0</th>\n",
              "      <td>573745</td>\n",
              "      <td>22138</td>\n",
              "      <td>BAKING SET 9 PIECE RETROSPOT</td>\n",
              "      <td>6</td>\n",
              "      <td>2011-11-01 08:53:00</td>\n",
              "      <td>4.95</td>\n",
              "      <td>17419.0</td>\n",
              "      <td>United Kingdom</td>\n",
              "    </tr>\n",
              "    <tr>\n",
              "      <th>1</th>\n",
              "      <td>562670</td>\n",
              "      <td>22791</td>\n",
              "      <td>T-LIGHT GLASS FLUTED ANTIQUE</td>\n",
              "      <td>12</td>\n",
              "      <td>2011-08-08 13:42:00</td>\n",
              "      <td>1.25</td>\n",
              "      <td>14911.0</td>\n",
              "      <td>EIRE</td>\n",
              "    </tr>\n",
              "    <tr>\n",
              "      <th>2</th>\n",
              "      <td>541604</td>\n",
              "      <td>51014L</td>\n",
              "      <td>FEATHER PEN,LIGHT PINK</td>\n",
              "      <td>24</td>\n",
              "      <td>2011-01-19 17:23:00</td>\n",
              "      <td>0.85</td>\n",
              "      <td>14572.0</td>\n",
              "      <td>United Kingdom</td>\n",
              "    </tr>\n",
              "    <tr>\n",
              "      <th>3</th>\n",
              "      <td>551855</td>\n",
              "      <td>22622</td>\n",
              "      <td>BOX OF VINTAGE ALPHABET BLOCKS</td>\n",
              "      <td>2</td>\n",
              "      <td>2011-05-04 15:08:00</td>\n",
              "      <td>11.95</td>\n",
              "      <td>12836.0</td>\n",
              "      <td>United Kingdom</td>\n",
              "    </tr>\n",
              "    <tr>\n",
              "      <th>4</th>\n",
              "      <td>561474</td>\n",
              "      <td>22384</td>\n",
              "      <td>LUNCH BAG PINK POLKADOT</td>\n",
              "      <td>100</td>\n",
              "      <td>2011-07-27 13:18:00</td>\n",
              "      <td>1.45</td>\n",
              "      <td>14680.0</td>\n",
              "      <td>United Kingdom</td>\n",
              "    </tr>\n",
              "  </tbody>\n",
              "</table>\n",
              "</div>\n",
              "    <div class=\"colab-df-buttons\">\n",
              "\n",
              "  <div class=\"colab-df-container\">\n",
              "    <button class=\"colab-df-convert\" onclick=\"convertToInteractive('df-07cc734a-9260-4b72-9534-1612abee0992')\"\n",
              "            title=\"Convert this dataframe to an interactive table.\"\n",
              "            style=\"display:none;\">\n",
              "\n",
              "  <svg xmlns=\"http://www.w3.org/2000/svg\" height=\"24px\" viewBox=\"0 -960 960 960\">\n",
              "    <path d=\"M120-120v-720h720v720H120Zm60-500h600v-160H180v160Zm220 220h160v-160H400v160Zm0 220h160v-160H400v160ZM180-400h160v-160H180v160Zm440 0h160v-160H620v160ZM180-180h160v-160H180v160Zm440 0h160v-160H620v160Z\"/>\n",
              "  </svg>\n",
              "    </button>\n",
              "\n",
              "  <style>\n",
              "    .colab-df-container {\n",
              "      display:flex;\n",
              "      gap: 12px;\n",
              "    }\n",
              "\n",
              "    .colab-df-convert {\n",
              "      background-color: #E8F0FE;\n",
              "      border: none;\n",
              "      border-radius: 50%;\n",
              "      cursor: pointer;\n",
              "      display: none;\n",
              "      fill: #1967D2;\n",
              "      height: 32px;\n",
              "      padding: 0 0 0 0;\n",
              "      width: 32px;\n",
              "    }\n",
              "\n",
              "    .colab-df-convert:hover {\n",
              "      background-color: #E2EBFA;\n",
              "      box-shadow: 0px 1px 2px rgba(60, 64, 67, 0.3), 0px 1px 3px 1px rgba(60, 64, 67, 0.15);\n",
              "      fill: #174EA6;\n",
              "    }\n",
              "\n",
              "    .colab-df-buttons div {\n",
              "      margin-bottom: 4px;\n",
              "    }\n",
              "\n",
              "    [theme=dark] .colab-df-convert {\n",
              "      background-color: #3B4455;\n",
              "      fill: #D2E3FC;\n",
              "    }\n",
              "\n",
              "    [theme=dark] .colab-df-convert:hover {\n",
              "      background-color: #434B5C;\n",
              "      box-shadow: 0px 1px 3px 1px rgba(0, 0, 0, 0.15);\n",
              "      filter: drop-shadow(0px 1px 2px rgba(0, 0, 0, 0.3));\n",
              "      fill: #FFFFFF;\n",
              "    }\n",
              "  </style>\n",
              "\n",
              "    <script>\n",
              "      const buttonEl =\n",
              "        document.querySelector('#df-07cc734a-9260-4b72-9534-1612abee0992 button.colab-df-convert');\n",
              "      buttonEl.style.display =\n",
              "        google.colab.kernel.accessAllowed ? 'block' : 'none';\n",
              "\n",
              "      async function convertToInteractive(key) {\n",
              "        const element = document.querySelector('#df-07cc734a-9260-4b72-9534-1612abee0992');\n",
              "        const dataTable =\n",
              "          await google.colab.kernel.invokeFunction('convertToInteractive',\n",
              "                                                    [key], {});\n",
              "        if (!dataTable) return;\n",
              "\n",
              "        const docLinkHtml = 'Like what you see? Visit the ' +\n",
              "          '<a target=\"_blank\" href=https://colab.research.google.com/notebooks/data_table.ipynb>data table notebook</a>'\n",
              "          + ' to learn more about interactive tables.';\n",
              "        element.innerHTML = '';\n",
              "        dataTable['output_type'] = 'display_data';\n",
              "        await google.colab.output.renderOutput(dataTable, element);\n",
              "        const docLink = document.createElement('div');\n",
              "        docLink.innerHTML = docLinkHtml;\n",
              "        element.appendChild(docLink);\n",
              "      }\n",
              "    </script>\n",
              "  </div>\n",
              "\n",
              "\n",
              "<div id=\"df-e7d369ea-4a35-4164-adfc-c1b879789334\">\n",
              "  <button class=\"colab-df-quickchart\" onclick=\"quickchart('df-e7d369ea-4a35-4164-adfc-c1b879789334')\"\n",
              "            title=\"Suggest charts\"\n",
              "            style=\"display:none;\">\n",
              "\n",
              "<svg xmlns=\"http://www.w3.org/2000/svg\" height=\"24px\"viewBox=\"0 0 24 24\"\n",
              "     width=\"24px\">\n",
              "    <g>\n",
              "        <path d=\"M19 3H5c-1.1 0-2 .9-2 2v14c0 1.1.9 2 2 2h14c1.1 0 2-.9 2-2V5c0-1.1-.9-2-2-2zM9 17H7v-7h2v7zm4 0h-2V7h2v10zm4 0h-2v-4h2v4z\"/>\n",
              "    </g>\n",
              "</svg>\n",
              "  </button>\n",
              "\n",
              "<style>\n",
              "  .colab-df-quickchart {\n",
              "      --bg-color: #E8F0FE;\n",
              "      --fill-color: #1967D2;\n",
              "      --hover-bg-color: #E2EBFA;\n",
              "      --hover-fill-color: #174EA6;\n",
              "      --disabled-fill-color: #AAA;\n",
              "      --disabled-bg-color: #DDD;\n",
              "  }\n",
              "\n",
              "  [theme=dark] .colab-df-quickchart {\n",
              "      --bg-color: #3B4455;\n",
              "      --fill-color: #D2E3FC;\n",
              "      --hover-bg-color: #434B5C;\n",
              "      --hover-fill-color: #FFFFFF;\n",
              "      --disabled-bg-color: #3B4455;\n",
              "      --disabled-fill-color: #666;\n",
              "  }\n",
              "\n",
              "  .colab-df-quickchart {\n",
              "    background-color: var(--bg-color);\n",
              "    border: none;\n",
              "    border-radius: 50%;\n",
              "    cursor: pointer;\n",
              "    display: none;\n",
              "    fill: var(--fill-color);\n",
              "    height: 32px;\n",
              "    padding: 0;\n",
              "    width: 32px;\n",
              "  }\n",
              "\n",
              "  .colab-df-quickchart:hover {\n",
              "    background-color: var(--hover-bg-color);\n",
              "    box-shadow: 0 1px 2px rgba(60, 64, 67, 0.3), 0 1px 3px 1px rgba(60, 64, 67, 0.15);\n",
              "    fill: var(--button-hover-fill-color);\n",
              "  }\n",
              "\n",
              "  .colab-df-quickchart-complete:disabled,\n",
              "  .colab-df-quickchart-complete:disabled:hover {\n",
              "    background-color: var(--disabled-bg-color);\n",
              "    fill: var(--disabled-fill-color);\n",
              "    box-shadow: none;\n",
              "  }\n",
              "\n",
              "  .colab-df-spinner {\n",
              "    border: 2px solid var(--fill-color);\n",
              "    border-color: transparent;\n",
              "    border-bottom-color: var(--fill-color);\n",
              "    animation:\n",
              "      spin 1s steps(1) infinite;\n",
              "  }\n",
              "\n",
              "  @keyframes spin {\n",
              "    0% {\n",
              "      border-color: transparent;\n",
              "      border-bottom-color: var(--fill-color);\n",
              "      border-left-color: var(--fill-color);\n",
              "    }\n",
              "    20% {\n",
              "      border-color: transparent;\n",
              "      border-left-color: var(--fill-color);\n",
              "      border-top-color: var(--fill-color);\n",
              "    }\n",
              "    30% {\n",
              "      border-color: transparent;\n",
              "      border-left-color: var(--fill-color);\n",
              "      border-top-color: var(--fill-color);\n",
              "      border-right-color: var(--fill-color);\n",
              "    }\n",
              "    40% {\n",
              "      border-color: transparent;\n",
              "      border-right-color: var(--fill-color);\n",
              "      border-top-color: var(--fill-color);\n",
              "    }\n",
              "    60% {\n",
              "      border-color: transparent;\n",
              "      border-right-color: var(--fill-color);\n",
              "    }\n",
              "    80% {\n",
              "      border-color: transparent;\n",
              "      border-right-color: var(--fill-color);\n",
              "      border-bottom-color: var(--fill-color);\n",
              "    }\n",
              "    90% {\n",
              "      border-color: transparent;\n",
              "      border-bottom-color: var(--fill-color);\n",
              "    }\n",
              "  }\n",
              "</style>\n",
              "\n",
              "  <script>\n",
              "    async function quickchart(key) {\n",
              "      const quickchartButtonEl =\n",
              "        document.querySelector('#' + key + ' button');\n",
              "      quickchartButtonEl.disabled = true;  // To prevent multiple clicks.\n",
              "      quickchartButtonEl.classList.add('colab-df-spinner');\n",
              "      try {\n",
              "        const charts = await google.colab.kernel.invokeFunction(\n",
              "            'suggestCharts', [key], {});\n",
              "      } catch (error) {\n",
              "        console.error('Error during call to suggestCharts:', error);\n",
              "      }\n",
              "      quickchartButtonEl.classList.remove('colab-df-spinner');\n",
              "      quickchartButtonEl.classList.add('colab-df-quickchart-complete');\n",
              "    }\n",
              "    (() => {\n",
              "      let quickchartButtonEl =\n",
              "        document.querySelector('#df-e7d369ea-4a35-4164-adfc-c1b879789334 button');\n",
              "      quickchartButtonEl.style.display =\n",
              "        google.colab.kernel.accessAllowed ? 'block' : 'none';\n",
              "    })();\n",
              "  </script>\n",
              "</div>\n",
              "\n",
              "    </div>\n",
              "  </div>\n"
            ],
            "application/vnd.google.colaboratory.intrinsic+json": {
              "type": "dataframe",
              "variable_name": "df"
            }
          },
          "metadata": {},
          "execution_count": 5
        }
      ]
    },
    {
      "cell_type": "code",
      "source": [
        "df['InvoiceNo'] = df['InvoiceNo'].astype(str)\n",
        "df['IsReturn'] = df['InvoiceNo'].str.startswith('C').astype(int)\n"
      ],
      "metadata": {
        "id": "XeAiy6aHRaDq"
      },
      "execution_count": 6,
      "outputs": []
    },
    {
      "cell_type": "code",
      "source": [
        "df = df[df['Quantity'] > 0]\n",
        "df = df[df['UnitPrice'] > 0]\n",
        "df['CustomerID'].fillna(-999, inplace=True)\n",
        "df.dropna(subset=['Description'], inplace=True)\n"
      ],
      "metadata": {
        "id": "X6YHFFc6Rj-8"
      },
      "execution_count": 7,
      "outputs": []
    },
    {
      "cell_type": "code",
      "source": [
        "df['InvoiceDate'] = pd.to_datetime(df['InvoiceDate'])\n",
        "df['Hour'] = df['InvoiceDate'].dt.hour\n",
        "df['DayOfWeek'] = df['InvoiceDate'].dt.dayofweek\n",
        "df['IsWeekend'] = df['DayOfWeek'].apply(lambda x: 1 if x >= 5 else 0)\n",
        "df['Month'] = df['InvoiceDate'].dt.month\n",
        "df['TotalPrice'] = df['Quantity'] * df['UnitPrice']\n",
        "\n",
        "# Product Frequency\n",
        "top_products = df['StockCode'].value_counts().head(20).index\n",
        "df['TopProduct'] = df['StockCode'].apply(lambda x: 1 if x in top_products else 0)\n",
        "\n",
        "# Customer-wise metrics\n",
        "customer_freq = df.groupby('CustomerID')['InvoiceNo'].nunique().to_dict()\n",
        "df['CustomerFrequency'] = df['CustomerID'].map(customer_freq)\n"
      ],
      "metadata": {
        "id": "W7ZrvoxpRnyP"
      },
      "execution_count": 8,
      "outputs": []
    },
    {
      "cell_type": "code",
      "source": [
        "from sklearn.preprocessing import LabelEncoder\n",
        "\n",
        "le_country = LabelEncoder()\n",
        "df['Country'] = le_country.fit_transform(df['Country'])\n",
        "le_stock = LabelEncoder()\n",
        "df['StockCode'] = le_stock.fit_transform(df['StockCode'])\n"
      ],
      "metadata": {
        "id": "ZU0Sz0U0RqWq"
      },
      "execution_count": 9,
      "outputs": []
    },
    {
      "cell_type": "code",
      "source": [
        "features = ['StockCode', 'Quantity', 'UnitPrice', 'CustomerID', 'Hour', 'DayOfWeek', 'IsWeekend',\n",
        "            'Month', 'TotalPrice', 'TopProduct', 'CustomerFrequency', 'Country']\n",
        "\n",
        "X = df[features]\n",
        "y = df['IsReturn']\n",
        "\n",
        "X_train, X_test, y_train, y_test = train_test_split(X, y, stratify=y, test_size=0.2, random_state=42)\n"
      ],
      "metadata": {
        "id": "IzOLZeVnRscI"
      },
      "execution_count": 10,
      "outputs": []
    },
    {
      "cell_type": "code",
      "source": [
        "print(\"Train Distribution:\\n\", y_train.value_counts())\n",
        "print(\"\\nTest Distribution:\\n\", y_test.value_counts())\n"
      ],
      "metadata": {
        "colab": {
          "base_uri": "https://localhost:8080/"
        },
        "id": "I-x4qea3SLNY",
        "outputId": "ebbf833c-f798-4c8a-e331-9c22f75e5045"
      },
      "execution_count": 12,
      "outputs": [
        {
          "output_type": "stream",
          "name": "stdout",
          "text": [
            "Train Distribution:\n",
            " IsReturn\n",
            "0    339286\n",
            "Name: count, dtype: int64\n",
            "\n",
            "Test Distribution:\n",
            " IsReturn\n",
            "0    84822\n",
            "Name: count, dtype: int64\n"
          ]
        }
      ]
    },
    {
      "cell_type": "code",
      "source": [
        "print(\"Full Data Target Distribution:\\n\", y.value_counts(normalize=True))\n"
      ],
      "metadata": {
        "colab": {
          "base_uri": "https://localhost:8080/"
        },
        "id": "hTxuHd1ASQmR",
        "outputId": "517b373b-58fe-400b-f9bd-b33a46d14cf3"
      },
      "execution_count": 13,
      "outputs": [
        {
          "output_type": "stream",
          "name": "stdout",
          "text": [
            "Full Data Target Distribution:\n",
            " IsReturn\n",
            "0    1.0\n",
            "Name: proportion, dtype: float64\n"
          ]
        }
      ]
    },
    {
      "source": [
        "X_train, X_test, y_train, y_test = train_test_split(X, y, stratify=y, test_size=0.2, random_state"
      ],
      "cell_type": "code",
      "metadata": {
        "id": "PVlPI1MJR4QZ"
      },
      "execution_count": null,
      "outputs": []
    },
    {
      "cell_type": "code",
      "source": [
        "df['TotalPrice'] = df['Quantity'] * df['UnitPrice']\n",
        "threshold = df['TotalPrice'].quantile(0.95)\n",
        "df['IsHighValue'] = (df['TotalPrice'] >= threshold).astype(int)\n"
      ],
      "metadata": {
        "id": "9TouFTCKS7J_"
      },
      "execution_count": 17,
      "outputs": []
    },
    {
      "cell_type": "code",
      "source": [
        "df['IsHighValue'].value_counts(normalize=True)\n"
      ],
      "metadata": {
        "colab": {
          "base_uri": "https://localhost:8080/",
          "height": 176
        },
        "id": "4h97Gf9FS-JY",
        "outputId": "061321c2-7ba1-499a-c9ea-46572496abd5"
      },
      "execution_count": 18,
      "outputs": [
        {
          "output_type": "execute_result",
          "data": {
            "text/plain": [
              "IsHighValue\n",
              "0    0.949984\n",
              "1    0.050016\n",
              "Name: proportion, dtype: float64"
            ],
            "text/html": [
              "<div>\n",
              "<style scoped>\n",
              "    .dataframe tbody tr th:only-of-type {\n",
              "        vertical-align: middle;\n",
              "    }\n",
              "\n",
              "    .dataframe tbody tr th {\n",
              "        vertical-align: top;\n",
              "    }\n",
              "\n",
              "    .dataframe thead th {\n",
              "        text-align: right;\n",
              "    }\n",
              "</style>\n",
              "<table border=\"1\" class=\"dataframe\">\n",
              "  <thead>\n",
              "    <tr style=\"text-align: right;\">\n",
              "      <th></th>\n",
              "      <th>proportion</th>\n",
              "    </tr>\n",
              "    <tr>\n",
              "      <th>IsHighValue</th>\n",
              "      <th></th>\n",
              "    </tr>\n",
              "  </thead>\n",
              "  <tbody>\n",
              "    <tr>\n",
              "      <th>0</th>\n",
              "      <td>0.949984</td>\n",
              "    </tr>\n",
              "    <tr>\n",
              "      <th>1</th>\n",
              "      <td>0.050016</td>\n",
              "    </tr>\n",
              "  </tbody>\n",
              "</table>\n",
              "</div><br><label><b>dtype:</b> float64</label>"
            ]
          },
          "metadata": {},
          "execution_count": 18
        }
      ]
    },
    {
      "cell_type": "code",
      "source": [
        "features = ['Quantity', 'UnitPrice', 'CustomerID']  # Add engineered features too\n",
        "target = 'IsHighValue'\n",
        "\n",
        "X = df[features]\n",
        "y = df[target]\n"
      ],
      "metadata": {
        "id": "MQmWKdKGTB45"
      },
      "execution_count": 19,
      "outputs": []
    },
    {
      "cell_type": "code",
      "source": [
        "from sklearn.model_selection import train_test_split\n",
        "\n",
        "# Undersample majority class\n",
        "data = pd.concat([X, y], axis=1)\n",
        "class_0 = data[data[target] == 0]\n",
        "class_1 = data[data[target] == 1]\n",
        "\n",
        "class_0_sampled = class_0.sample(n=len(class_1)*2, random_state=42)\n",
        "balanced_data = pd.concat([class_0_sampled, class_1])\n",
        "balanced_data = balanced_data.sample(frac=1, random_state=42)\n",
        "\n",
        "X = balanced_data[features]\n",
        "y = balanced_data[target]\n",
        "\n",
        "X_train, X_test, y_train, y_test = train_test_split(X, y, stratify=y, test_size=0.2, random_state=42)\n"
      ],
      "metadata": {
        "id": "-Y3SGkjPTDqW"
      },
      "execution_count": 20,
      "outputs": []
    },
    {
      "cell_type": "code",
      "source": [
        "xgb = XGBClassifier(use_label_encoder=False, eval_metric='logloss')\n",
        "cat = CatBoostClassifier(verbose=0)\n",
        "rf = RandomForestClassifier()\n",
        "\n",
        "voting = VotingClassifier(estimators=[\n",
        "    ('xgb', xgb), ('cat', cat), ('rf', rf)\n",
        "], voting='soft')\n",
        "\n",
        "voting.fit(X_train, y_train)\n",
        "y_pred = voting.predict(X_test)\n"
      ],
      "metadata": {
        "id": "wEk1PvaaTH1s"
      },
      "execution_count": 21,
      "outputs": []
    },
    {
      "cell_type": "code",
      "source": [
        "print(\"F1 Score:\", f1_score(y_test, y_pred))\n",
        "print(\"AUC-ROC:\", roc_auc_score(y_test, y_pred))\n",
        "print(\"Accuracy:\", accuracy_score(y_test, y_pred))\n",
        "print(confusion_matrix(y_test, y_pred))\n",
        "print(classification_report(y_test, y_pred))\n"
      ],
      "metadata": {
        "colab": {
          "base_uri": "https://localhost:8080/"
        },
        "id": "HyXTFiV3Rzav",
        "outputId": "cfbf08d6-4a93-4a8a-e8c9-98eb379c0307"
      },
      "execution_count": 22,
      "outputs": [
        {
          "output_type": "stream",
          "name": "stdout",
          "text": [
            "F1 Score: 0.9984689671416794\n",
            "AUC-ROC: 0.9989982877271185\n",
            "Accuracy: 0.9989786297925832\n",
            "[[8476    9]\n",
            " [   4 4239]]\n",
            "              precision    recall  f1-score   support\n",
            "\n",
            "           0       1.00      1.00      1.00      8485\n",
            "           1       1.00      1.00      1.00      4243\n",
            "\n",
            "    accuracy                           1.00     12728\n",
            "   macro avg       1.00      1.00      1.00     12728\n",
            "weighted avg       1.00      1.00      1.00     12728\n",
            "\n"
          ]
        }
      ]
    },
    {
      "source": [
        "explainer = shap.TreeExplainer(voting.estimators_[0]) # Access the fitted xgb model within the VotingClassifier\n",
        "shap_values = explainer.shap_values(X_test)\n",
        "shap.summary_plot(shap_values, X_test, max_display=10)"
      ],
      "cell_type": "code",
      "metadata": {
        "colab": {
          "base_uri": "https://localhost:8080/",
          "height": 276
        },
        "id": "burJ_J1RTY5n",
        "outputId": "4cdbbc11-68f4-446c-f21b-35a4f5d17eb5"
      },
      "execution_count": 24,
      "outputs": [
        {
          "output_type": "display_data",
          "data": {
            "text/plain": [
              "<Figure size 800x270 with 2 Axes>"
            ],
            "image/png": "[encoded data removed]"
          },
          "metadata": {}
        }
      ]
    },
    {
      "cell_type": "code",
      "source": [
        "from sklearn.metrics import confusion_matrix, ConfusionMatrixDisplay\n",
        "\n",
        "cm = confusion_matrix(y_test, y_pred)\n",
        "disp = ConfusionMatrixDisplay(confusion_matrix=cm)\n",
        "disp.plot()\n"
      ],
      "metadata": {
        "colab": {
          "base_uri": "https://localhost:8080/",
          "height": 466
        },
        "id": "op7eYr49T8_e",
        "outputId": "e3bb605c-b4a6-4347-d94f-77a83f0bde2e"
      },
      "execution_count": 25,
      "outputs": [
        {
          "output_type": "execute_result",
          "data": {
            "text/plain": [
              "<sklearn.metrics._plot.confusion_matrix.ConfusionMatrixDisplay at 0x7806a8877b90>"
            ]
          },
          "metadata": {},
          "execution_count": 25
        },
        {
          "output_type": "display_data",
          "data": {
            "text/plain": [
              "<Figure size 640x480 with 2 Axes>"
            ],
            "image/png": "[encoded data removed]"
          },
          "metadata": {}
        }
      ]
    },
    {
      "cell_type": "code",
      "source": [
        "from sklearn.metrics import roc_curve, auc\n",
        "\n",
        "y_probs = voting.predict_proba(X_test)[:, 1]\n",
        "fpr, tpr, thresholds = roc_curve(y_test, y_probs)\n",
        "roc_auc = auc(fpr, tpr)\n",
        "\n",
        "import matplotlib.pyplot as plt\n",
        "\n",
        "plt.figure(figsize=(8,6))\n",
        "plt.plot(fpr, tpr, color='blue', label=f'ROC curve (AUC = {roc_auc:.2f})')\n",
        "plt.plot([0,1], [0,1], linestyle='--')\n",
        "plt.xlabel(\"False Positive Rate\")\n",
        "plt.ylabel(\"True Positive Rate\")\n",
        "plt.title(\"ROC Curve\")\n",
        "plt.legend()\n",
        "plt.grid(True)\n",
        "plt.show()\n"
      ],
      "metadata": {
        "colab": {
          "base_uri": "https://localhost:8080/",
          "height": 564
        },
        "id": "XAXxEiyTT_kT",
        "outputId": "e32ac160-0547-44da-8ffb-db6ed9b68301"
      },
      "execution_count": 26,
      "outputs": [
        {
          "output_type": "display_data",
          "data": {
            "text/plain": [
              "<Figure size 800x600 with 1 Axes>"
            ],
            "image/png": "[encoded data removed]"
          },
          "metadata": {}
        }
      ]
    },
    {
      "cell_type": "code",
      "source": [
        "cat.fit(X_train, y_train)\n",
        "importances = cat.get_feature_importance(prettified=True)\n",
        "print(importances)\n"
      ],
      "metadata": {
        "colab": {
          "base_uri": "https://localhost:8080/"
        },
        "id": "_XvnPpBMUDfC",
        "outputId": "cdf5f306-cb19-4bc9-e29b-3188d041b722"
      },
      "execution_count": 27,
      "outputs": [
        {
          "output_type": "stream",
          "name": "stdout",
          "text": [
            "   Feature Id  Importances\n",
            "0    Quantity    51.636844\n",
            "1   UnitPrice    48.097179\n",
            "2  CustomerID     0.265977\n"
          ]
        }
      ]
    },
    {
      "source": [
        "import dask.dataframe as dd\n",
        "\n",
        "# Replace 'yourfile.csv' with the actual path to your CSV file\n",
        "file_path = '/content/drive/MyDrive/Colab Notebooks/kiranaRO_train.csv'  # Update with your file path\n",
        "\n",
        "# Load with Dask, specifying dtype for 'InvoiceNo'\n",
        "df_dask = dd.read_csv(file_path, dtype={'InvoiceNo': 'object'}) # Specify the dtype for the problematic column\n",
        "\n",
        "# Convert to Pandas (after sampling/cleaning)\n",
        "df = df_dask.sample(frac=0.3).compute()"
      ],
      "cell_type": "code",
      "metadata": {
        "id": "j05GQxLlUgLj"
      },
      "execution_count": 32,
      "outputs": []
    }
  ]
}